{
  "nbformat": 4,
  "nbformat_minor": 0,
  "metadata": {
    "colab": {
      "name": "Copy of Untitled1.ipynb",
      "provenance": []
    },
    "kernelspec": {
      "name": "python3",
      "display_name": "Python 3"
    }
  },
  "cells": [
    {
      "cell_type": "markdown",
      "metadata": {
        "id": "B2NAFTK_NzeP"
      },
      "source": [
        "**QUESTION 1**\n",
        "Create a numpy array starting from 2 till 50 with a stepsize of 3."
      ]
    },
    {
      "cell_type": "code",
      "metadata": {
        "id": "E6MklejDNx6U",
        "outputId": "f5b92227-7427-4c48-f853-4d02a5a098fa",
        "colab": {
          "base_uri": "https://localhost:8080/"
        }
      },
      "source": [
        "import numpy as np\n",
        "arr = np.arange(2,51,3)\n",
        "print(arr)\n"
      ],
      "execution_count": null,
      "outputs": [
        {
          "output_type": "stream",
          "text": [
            "[ 2  5  8 11 14 17 20 23 26 29 32 35 38 41 44 47 50]\n"
          ],
          "name": "stdout"
        }
      ]
    },
    {
      "cell_type": "markdown",
      "metadata": {
        "id": "0nYVsJ0DPWNn"
      },
      "source": [
        "**QUESTION 2**\n",
        "Accept two lists of 5 elements each from the user.\n",
        "Convert them to numpy arrays. Concatenate these arrays and print it. Also sort these arrays and print it."
      ]
    },
    {
      "cell_type": "code",
      "metadata": {
        "id": "uURWck0tPmUa",
        "outputId": "4bd329a7-6de6-49fe-ce81-5c81e00abfd9",
        "colab": {
          "base_uri": "https://localhost:8080/"
        }
      },
      "source": [
        "arr1,arr2=(list(map(int,input().split()))for i in range (2))\n",
        "arr1=np.array(arr1)\n",
        "arr2=np.array(arr2)\n",
        "print(np.concatenate((arr1,arr2)))\n",
        "print(np.sort(np.concatenate((arr1,arr2))))"
      ],
      "execution_count": null,
      "outputs": [
        {
          "output_type": "stream",
          "text": [
            "2 1 3\n",
            "5 4 6\n",
            "[2 1 3 5 4 6]\n",
            "[1 2 3 4 5 6]\n"
          ],
          "name": "stdout"
        }
      ]
    },
    {
      "cell_type": "markdown",
      "metadata": {
        "id": "Ck2utdMV6kxr"
      },
      "source": [
        "**QUESTION 3**\n",
        "Write a code snippet to find the dimensions of a ndarray and its size."
      ]
    },
    {
      "cell_type": "code",
      "metadata": {
        "id": "i4ISqRBj6vv1",
        "outputId": "01f15e6e-1255-47dd-8dab-a7b3d83ae569",
        "colab": {
          "base_uri": "https://localhost:8080/"
        }
      },
      "source": [
        "import numpy as np\n",
        "arr1=np.array([[1,2,3],[4,5,6],[7,8,9]])\n",
        "print(arr1)\n",
        "print(arr1.shape)\n",
        "print(arr1.size)"
      ],
      "execution_count": 9,
      "outputs": [
        {
          "output_type": "stream",
          "text": [
            "[[1 2 3]\n",
            " [4 5 6]\n",
            " [7 8 9]]\n",
            "(3, 3)\n",
            "9\n"
          ],
          "name": "stdout"
        }
      ]
    },
    {
      "cell_type": "markdown",
      "metadata": {
        "id": "dV_Os32g8O0D"
      },
      "source": [
        "**QUESTION 4**\n",
        "How to convert a 1D array into a 2D array? Demonstrate with the help of a code snippet\n",
        "Hint: np.newaxis, np.expand_dims"
      ]
    },
    {
      "cell_type": "code",
      "metadata": {
        "id": "7227GB018W_U",
        "outputId": "dfa1fe80-048b-4d64-96c9-fffb9c3a1ae2",
        "colab": {
          "base_uri": "https://localhost:8080/"
        }
      },
      "source": [
        "arr1=np.array([1,2,3,4,5,6,7,8,9])\n",
        "print(arr1.shape)\n",
        "print(arr1.ndim)\n",
        "arr2=np.reshape(arr1,(3,3))\n",
        "print(arr2.shape)\n",
        "print(arr2.ndim)"
      ],
      "execution_count": 11,
      "outputs": [
        {
          "output_type": "stream",
          "text": [
            "(9,)\n",
            "1\n",
            "(3, 3)\n",
            "2\n"
          ],
          "name": "stdout"
        }
      ]
    },
    {
      "cell_type": "markdown",
      "metadata": {
        "id": "_7WhtUZGABBm"
      },
      "source": [
        "**QUESTION 5**\n",
        "Consider two square numpy arrays. Stack them vertically and horizontally.\n",
        "Hint: Use vstack(), hstack()\n"
      ]
    },
    {
      "cell_type": "code",
      "metadata": {
        "id": "NrbF5GZtAOpg",
        "outputId": "b3d38a6d-b6a8-4dce-8fe6-65a0401ec9d9",
        "colab": {
          "base_uri": "https://localhost:8080/"
        }
      },
      "source": [
        "#Considering two square numpy arrays\n",
        "arr1=np.array([[1,3],[4,6]])\n",
        "arr2=np.array([[2,6],[7,9]])\n",
        "print(arr1)\n",
        "print(arr2)\n",
        "print()\n",
        "#stacking both the matrices vertically\n",
        "print(np.vstack((arr1,arr2)))\n",
        "print()\n",
        "#stacking both the matrices horizontally\n",
        "print(np.hstack((arr1,arr2)))\n"
      ],
      "execution_count": 20,
      "outputs": [
        {
          "output_type": "stream",
          "text": [
            "[[1 3]\n",
            " [4 6]]\n",
            "[[2 6]\n",
            " [7 9]]\n",
            "\n",
            "[[1 3]\n",
            " [4 6]\n",
            " [2 6]\n",
            " [7 9]]\n",
            "\n",
            "[[1 3 2 6]\n",
            " [4 6 7 9]]\n"
          ],
          "name": "stdout"
        }
      ]
    },
    {
      "cell_type": "markdown",
      "metadata": {
        "id": "o8TDkmGqCl2J"
      },
      "source": [
        "**QUESTION 6**\n",
        "How to get unique items and counts of unique items?"
      ]
    },
    {
      "cell_type": "code",
      "metadata": {
        "id": "nsO4BRpKCvly",
        "outputId": "b63f0a03-7a51-4d27-8d81-e07c46da8926",
        "colab": {
          "base_uri": "https://localhost:8080/"
        }
      },
      "source": [
        "list1 = [1,3,1,5,2,4]\n",
        "list1 = list(set(list1))\n",
        "print(list1)\n",
        "print()\n",
        "print(len(list1))"
      ],
      "execution_count": 21,
      "outputs": [
        {
          "output_type": "stream",
          "text": [
            "[1, 2, 3, 4, 5]\n",
            "\n",
            "5\n"
          ],
          "name": "stdout"
        }
      ]
    }
  ]
}